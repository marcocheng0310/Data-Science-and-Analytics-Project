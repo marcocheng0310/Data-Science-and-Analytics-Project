{
 "cells": [
  {
   "cell_type": "code",
   "execution_count": 2,
   "id": "595928d2-d57b-4f4e-8566-3661f5d275fb",
   "metadata": {},
   "outputs": [
    {
     "name": "stdout",
     "output_type": "stream",
     "text": [
      "Collecting kagglehub[pandas-datasets]\n",
      "  Downloading kagglehub-0.3.13-py3-none-any.whl.metadata (38 kB)\n",
      "Requirement already satisfied: packaging in c:\\users\\howan\\anaconda3\\lib\\site-packages (from kagglehub[pandas-datasets]) (24.2)\n",
      "Requirement already satisfied: pyyaml in c:\\users\\howan\\anaconda3\\lib\\site-packages (from kagglehub[pandas-datasets]) (6.0.2)\n",
      "Requirement already satisfied: requests in c:\\users\\howan\\anaconda3\\lib\\site-packages (from kagglehub[pandas-datasets]) (2.32.3)\n",
      "Requirement already satisfied: tqdm in c:\\users\\howan\\anaconda3\\lib\\site-packages (from kagglehub[pandas-datasets]) (4.67.1)\n",
      "Requirement already satisfied: pandas in c:\\users\\howan\\anaconda3\\lib\\site-packages (from kagglehub[pandas-datasets]) (2.2.3)\n",
      "Requirement already satisfied: numpy>=1.26.0 in c:\\users\\howan\\anaconda3\\lib\\site-packages (from pandas->kagglehub[pandas-datasets]) (2.1.3)\n",
      "Requirement already satisfied: python-dateutil>=2.8.2 in c:\\users\\howan\\anaconda3\\lib\\site-packages (from pandas->kagglehub[pandas-datasets]) (2.9.0.post0)\n",
      "Requirement already satisfied: pytz>=2020.1 in c:\\users\\howan\\anaconda3\\lib\\site-packages (from pandas->kagglehub[pandas-datasets]) (2024.1)\n",
      "Requirement already satisfied: tzdata>=2022.7 in c:\\users\\howan\\anaconda3\\lib\\site-packages (from pandas->kagglehub[pandas-datasets]) (2025.2)\n",
      "Requirement already satisfied: six>=1.5 in c:\\users\\howan\\anaconda3\\lib\\site-packages (from python-dateutil>=2.8.2->pandas->kagglehub[pandas-datasets]) (1.17.0)\n",
      "Requirement already satisfied: charset-normalizer<4,>=2 in c:\\users\\howan\\anaconda3\\lib\\site-packages (from requests->kagglehub[pandas-datasets]) (3.3.2)\n",
      "Requirement already satisfied: idna<4,>=2.5 in c:\\users\\howan\\anaconda3\\lib\\site-packages (from requests->kagglehub[pandas-datasets]) (3.7)\n",
      "Requirement already satisfied: urllib3<3,>=1.21.1 in c:\\users\\howan\\anaconda3\\lib\\site-packages (from requests->kagglehub[pandas-datasets]) (2.3.0)\n",
      "Requirement already satisfied: certifi>=2017.4.17 in c:\\users\\howan\\anaconda3\\lib\\site-packages (from requests->kagglehub[pandas-datasets]) (2025.8.3)\n",
      "Requirement already satisfied: colorama in c:\\users\\howan\\anaconda3\\lib\\site-packages (from tqdm->kagglehub[pandas-datasets]) (0.4.6)\n",
      "Downloading kagglehub-0.3.13-py3-none-any.whl (68 kB)\n",
      "Installing collected packages: kagglehub\n",
      "Successfully installed kagglehub-0.3.13\n",
      "Note: you may need to restart the kernel to use updated packages.\n"
     ]
    }
   ],
   "source": [
    "pip install kagglehub[pandas-datasets]"
   ]
  },
  {
   "cell_type": "code",
   "execution_count": 39,
   "id": "487ec30a-5a49-4f11-9544-a52466401c6b",
   "metadata": {},
   "outputs": [
    {
     "name": "stderr",
     "output_type": "stream",
     "text": [
      "C:\\Users\\howan\\AppData\\Local\\Temp\\ipykernel_333828\\1978852250.py:8: DeprecationWarning: Use dataset_load() instead of load_dataset(). load_dataset() will be removed in a future version.\n",
      "  df = kagglehub.load_dataset(\n"
     ]
    },
    {
     "name": "stdout",
     "output_type": "stream",
     "text": [
      "Downloading from https://www.kaggle.com/api/v1/datasets/download/skmewati/myntra-sales-dataset?dataset_version_number=1&file_name=myntra_dataset_ByScraping.csv...\n"
     ]
    },
    {
     "name": "stderr",
     "output_type": "stream",
     "text": [
      "100%|██████████| 3.22M/3.22M [00:01<00:00, 1.93MB/s]"
     ]
    },
    {
     "name": "stdout",
     "output_type": "stream",
     "text": [
      "First 5 records:        brand_name           pants_description   price     MRP  \\\n",
      "0           WROGN  Men Loose Fit Cotton Jeans  1374.0  2499.0   \n",
      "1  Flying Machine          Men Slim Fit Jeans  1829.0  2999.0   \n",
      "2        Roadster       Men Pure Cotton Jeans   974.0  2499.0   \n",
      "3      Bene Kleed     Relaxed Fit Denim Jeans   873.0  2299.0   \n",
      "4           Levis      Men 511 Slim Fit Jeans  1478.0  2899.0   \n",
      "\n",
      "   discount_percent  ratings  number_of_ratings  \n",
      "0              0.45      4.2               57.0  \n",
      "1              0.39      4.6                5.0  \n",
      "2              0.61      3.6             1100.0  \n",
      "3              0.62      4.0             4800.0  \n",
      "4              0.49      4.3              264.0  \n"
     ]
    },
    {
     "name": "stderr",
     "output_type": "stream",
     "text": [
      "\n"
     ]
    }
   ],
   "source": [
    "import kagglehub\n",
    "from kagglehub import KaggleDatasetAdapter\n",
    "\n",
    "# Set the path to the file you'd like to load\n",
    "file_path = \"myntra_dataset_ByScraping.csv\"\n",
    "\n",
    "# Load the latest version\n",
    "df = kagglehub.load_dataset(\n",
    "  KaggleDatasetAdapter.PANDAS,\n",
    "  \"skmewati/myntra-sales-dataset\",\n",
    "  file_path,\n",
    "  # Provide any additional arguments like \n",
    "  # sql_query or pandas_kwargs. See the \n",
    "  # documenation for more information:\n",
    "  # https://github.com/Kaggle/kagglehub/blob/main/README.md#kaggledatasetadapterpandas\n",
    ")\n",
    "\n",
    "print(\"First 5 records:\", df.head())"
   ]
  },
  {
   "cell_type": "code",
   "execution_count": 40,
   "id": "b9e6b9cb-0f94-4f56-bd78-7e16c66a24f4",
   "metadata": {},
   "outputs": [
    {
     "data": {
      "text/html": [
       "<div>\n",
       "<style scoped>\n",
       "    .dataframe tbody tr th:only-of-type {\n",
       "        vertical-align: middle;\n",
       "    }\n",
       "\n",
       "    .dataframe tbody tr th {\n",
       "        vertical-align: top;\n",
       "    }\n",
       "\n",
       "    .dataframe thead th {\n",
       "        text-align: right;\n",
       "    }\n",
       "</style>\n",
       "<table border=\"1\" class=\"dataframe\">\n",
       "  <thead>\n",
       "    <tr style=\"text-align: right;\">\n",
       "      <th></th>\n",
       "      <th>brand_name</th>\n",
       "      <th>pants_description</th>\n",
       "      <th>price</th>\n",
       "      <th>MRP</th>\n",
       "      <th>discount_percent</th>\n",
       "      <th>ratings</th>\n",
       "      <th>number_of_ratings</th>\n",
       "    </tr>\n",
       "  </thead>\n",
       "  <tbody>\n",
       "    <tr>\n",
       "      <th>count</th>\n",
       "      <td>52120</td>\n",
       "      <td>52120</td>\n",
       "      <td>52120.000000</td>\n",
       "      <td>52120.000000</td>\n",
       "      <td>52120.000000</td>\n",
       "      <td>52120.000000</td>\n",
       "      <td>52120.000000</td>\n",
       "    </tr>\n",
       "    <tr>\n",
       "      <th>unique</th>\n",
       "      <td>417</td>\n",
       "      <td>2680</td>\n",
       "      <td>NaN</td>\n",
       "      <td>NaN</td>\n",
       "      <td>NaN</td>\n",
       "      <td>NaN</td>\n",
       "      <td>NaN</td>\n",
       "    </tr>\n",
       "    <tr>\n",
       "      <th>top</th>\n",
       "      <td>WROGN</td>\n",
       "      <td>Men Slim Fit Jeans</td>\n",
       "      <td>NaN</td>\n",
       "      <td>NaN</td>\n",
       "      <td>NaN</td>\n",
       "      <td>NaN</td>\n",
       "      <td>NaN</td>\n",
       "    </tr>\n",
       "    <tr>\n",
       "      <th>freq</th>\n",
       "      <td>5303</td>\n",
       "      <td>7850</td>\n",
       "      <td>NaN</td>\n",
       "      <td>NaN</td>\n",
       "      <td>NaN</td>\n",
       "      <td>NaN</td>\n",
       "      <td>NaN</td>\n",
       "    </tr>\n",
       "    <tr>\n",
       "      <th>mean</th>\n",
       "      <td>NaN</td>\n",
       "      <td>NaN</td>\n",
       "      <td>1594.515445</td>\n",
       "      <td>3180.398438</td>\n",
       "      <td>1.648256</td>\n",
       "      <td>3.997794</td>\n",
       "      <td>91.568937</td>\n",
       "    </tr>\n",
       "    <tr>\n",
       "      <th>std</th>\n",
       "      <td>NaN</td>\n",
       "      <td>NaN</td>\n",
       "      <td>1495.972325</td>\n",
       "      <td>2201.883218</td>\n",
       "      <td>4.687529</td>\n",
       "      <td>0.420404</td>\n",
       "      <td>433.918513</td>\n",
       "    </tr>\n",
       "    <tr>\n",
       "      <th>min</th>\n",
       "      <td>NaN</td>\n",
       "      <td>NaN</td>\n",
       "      <td>337.000000</td>\n",
       "      <td>499.000000</td>\n",
       "      <td>0.020000</td>\n",
       "      <td>1.000000</td>\n",
       "      <td>5.000000</td>\n",
       "    </tr>\n",
       "    <tr>\n",
       "      <th>25%</th>\n",
       "      <td>NaN</td>\n",
       "      <td>NaN</td>\n",
       "      <td>989.000000</td>\n",
       "      <td>2499.000000</td>\n",
       "      <td>0.400000</td>\n",
       "      <td>3.800000</td>\n",
       "      <td>16.000000</td>\n",
       "    </tr>\n",
       "    <tr>\n",
       "      <th>50%</th>\n",
       "      <td>NaN</td>\n",
       "      <td>NaN</td>\n",
       "      <td>1439.000000</td>\n",
       "      <td>2999.000000</td>\n",
       "      <td>0.500000</td>\n",
       "      <td>4.000000</td>\n",
       "      <td>35.000000</td>\n",
       "    </tr>\n",
       "    <tr>\n",
       "      <th>75%</th>\n",
       "      <td>NaN</td>\n",
       "      <td>NaN</td>\n",
       "      <td>1829.000000</td>\n",
       "      <td>3499.000000</td>\n",
       "      <td>0.630000</td>\n",
       "      <td>4.200000</td>\n",
       "      <td>74.000000</td>\n",
       "    </tr>\n",
       "    <tr>\n",
       "      <th>max</th>\n",
       "      <td>NaN</td>\n",
       "      <td>NaN</td>\n",
       "      <td>54000.000000</td>\n",
       "      <td>72000.000000</td>\n",
       "      <td>64.000000</td>\n",
       "      <td>5.000000</td>\n",
       "      <td>30700.000000</td>\n",
       "    </tr>\n",
       "  </tbody>\n",
       "</table>\n",
       "</div>"
      ],
      "text/plain": [
       "       brand_name   pants_description         price           MRP  \\\n",
       "count       52120               52120  52120.000000  52120.000000   \n",
       "unique        417                2680           NaN           NaN   \n",
       "top         WROGN  Men Slim Fit Jeans           NaN           NaN   \n",
       "freq         5303                7850           NaN           NaN   \n",
       "mean          NaN                 NaN   1594.515445   3180.398438   \n",
       "std           NaN                 NaN   1495.972325   2201.883218   \n",
       "min           NaN                 NaN    337.000000    499.000000   \n",
       "25%           NaN                 NaN    989.000000   2499.000000   \n",
       "50%           NaN                 NaN   1439.000000   2999.000000   \n",
       "75%           NaN                 NaN   1829.000000   3499.000000   \n",
       "max           NaN                 NaN  54000.000000  72000.000000   \n",
       "\n",
       "        discount_percent       ratings  number_of_ratings  \n",
       "count       52120.000000  52120.000000       52120.000000  \n",
       "unique               NaN           NaN                NaN  \n",
       "top                  NaN           NaN                NaN  \n",
       "freq                 NaN           NaN                NaN  \n",
       "mean            1.648256      3.997794          91.568937  \n",
       "std             4.687529      0.420404         433.918513  \n",
       "min             0.020000      1.000000           5.000000  \n",
       "25%             0.400000      3.800000          16.000000  \n",
       "50%             0.500000      4.000000          35.000000  \n",
       "75%             0.630000      4.200000          74.000000  \n",
       "max            64.000000      5.000000       30700.000000  "
      ]
     },
     "execution_count": 40,
     "metadata": {},
     "output_type": "execute_result"
    }
   ],
   "source": [
    "df.describe(include = 'all')"
   ]
  },
  {
   "cell_type": "code",
   "execution_count": 80,
   "id": "e65b803b-490a-4cb6-859d-cf8d56aa2990",
   "metadata": {},
   "outputs": [
    {
     "data": {
      "text/html": [
       "<div>\n",
       "<style scoped>\n",
       "    .dataframe tbody tr th:only-of-type {\n",
       "        vertical-align: middle;\n",
       "    }\n",
       "\n",
       "    .dataframe tbody tr th {\n",
       "        vertical-align: top;\n",
       "    }\n",
       "\n",
       "    .dataframe thead th {\n",
       "        text-align: right;\n",
       "    }\n",
       "</style>\n",
       "<table border=\"1\" class=\"dataframe\">\n",
       "  <thead>\n",
       "    <tr style=\"text-align: right;\">\n",
       "      <th></th>\n",
       "      <th>price</th>\n",
       "      <th>MRP</th>\n",
       "      <th>discount_percent</th>\n",
       "      <th>ratings</th>\n",
       "      <th>number_of_ratings</th>\n",
       "    </tr>\n",
       "  </thead>\n",
       "  <tbody>\n",
       "    <tr>\n",
       "      <th>count</th>\n",
       "      <td>52120.000000</td>\n",
       "      <td>52120.000000</td>\n",
       "      <td>52120.000000</td>\n",
       "      <td>52120.000000</td>\n",
       "      <td>52120.000000</td>\n",
       "    </tr>\n",
       "    <tr>\n",
       "      <th>mean</th>\n",
       "      <td>1594.515445</td>\n",
       "      <td>3180.398438</td>\n",
       "      <td>1.648256</td>\n",
       "      <td>3.997794</td>\n",
       "      <td>91.568937</td>\n",
       "    </tr>\n",
       "    <tr>\n",
       "      <th>std</th>\n",
       "      <td>1495.972325</td>\n",
       "      <td>2201.883218</td>\n",
       "      <td>4.687529</td>\n",
       "      <td>0.420404</td>\n",
       "      <td>433.918513</td>\n",
       "    </tr>\n",
       "    <tr>\n",
       "      <th>min</th>\n",
       "      <td>337.000000</td>\n",
       "      <td>499.000000</td>\n",
       "      <td>0.020000</td>\n",
       "      <td>1.000000</td>\n",
       "      <td>5.000000</td>\n",
       "    </tr>\n",
       "    <tr>\n",
       "      <th>25%</th>\n",
       "      <td>989.000000</td>\n",
       "      <td>2499.000000</td>\n",
       "      <td>0.400000</td>\n",
       "      <td>3.800000</td>\n",
       "      <td>16.000000</td>\n",
       "    </tr>\n",
       "    <tr>\n",
       "      <th>50%</th>\n",
       "      <td>1439.000000</td>\n",
       "      <td>2999.000000</td>\n",
       "      <td>0.500000</td>\n",
       "      <td>4.000000</td>\n",
       "      <td>35.000000</td>\n",
       "    </tr>\n",
       "    <tr>\n",
       "      <th>75%</th>\n",
       "      <td>1829.000000</td>\n",
       "      <td>3499.000000</td>\n",
       "      <td>0.630000</td>\n",
       "      <td>4.200000</td>\n",
       "      <td>74.000000</td>\n",
       "    </tr>\n",
       "    <tr>\n",
       "      <th>max</th>\n",
       "      <td>54000.000000</td>\n",
       "      <td>72000.000000</td>\n",
       "      <td>64.000000</td>\n",
       "      <td>5.000000</td>\n",
       "      <td>30700.000000</td>\n",
       "    </tr>\n",
       "  </tbody>\n",
       "</table>\n",
       "</div>"
      ],
      "text/plain": [
       "              price           MRP  discount_percent       ratings  \\\n",
       "count  52120.000000  52120.000000      52120.000000  52120.000000   \n",
       "mean    1594.515445   3180.398438          1.648256      3.997794   \n",
       "std     1495.972325   2201.883218          4.687529      0.420404   \n",
       "min      337.000000    499.000000          0.020000      1.000000   \n",
       "25%      989.000000   2499.000000          0.400000      3.800000   \n",
       "50%     1439.000000   2999.000000          0.500000      4.000000   \n",
       "75%     1829.000000   3499.000000          0.630000      4.200000   \n",
       "max    54000.000000  72000.000000         64.000000      5.000000   \n",
       "\n",
       "       number_of_ratings  \n",
       "count       52120.000000  \n",
       "mean           91.568937  \n",
       "std           433.918513  \n",
       "min             5.000000  \n",
       "25%            16.000000  \n",
       "50%            35.000000  \n",
       "75%            74.000000  \n",
       "max         30700.000000  "
      ]
     },
     "execution_count": 80,
     "metadata": {},
     "output_type": "execute_result"
    }
   ],
   "source": [
    "df.describe()"
   ]
  },
  {
   "cell_type": "code",
   "execution_count": 81,
   "id": "f76b5200-de48-42e4-834e-f468d32a3520",
   "metadata": {},
   "outputs": [
    {
     "data": {
      "text/html": [
       "<div>\n",
       "<style scoped>\n",
       "    .dataframe tbody tr th:only-of-type {\n",
       "        vertical-align: middle;\n",
       "    }\n",
       "\n",
       "    .dataframe tbody tr th {\n",
       "        vertical-align: top;\n",
       "    }\n",
       "\n",
       "    .dataframe thead th {\n",
       "        text-align: right;\n",
       "    }\n",
       "</style>\n",
       "<table border=\"1\" class=\"dataframe\">\n",
       "  <thead>\n",
       "    <tr style=\"text-align: right;\">\n",
       "      <th></th>\n",
       "      <th>brand_name</th>\n",
       "      <th>pants_description</th>\n",
       "      <th>price</th>\n",
       "      <th>MRP</th>\n",
       "      <th>discount_percent</th>\n",
       "      <th>ratings</th>\n",
       "      <th>number_of_ratings</th>\n",
       "    </tr>\n",
       "  </thead>\n",
       "  <tbody>\n",
       "    <tr>\n",
       "      <th>0</th>\n",
       "      <td>WROGN</td>\n",
       "      <td>Men Loose Fit Cotton Jeans</td>\n",
       "      <td>1374.0</td>\n",
       "      <td>2499.0</td>\n",
       "      <td>0.45</td>\n",
       "      <td>4.2</td>\n",
       "      <td>57.0</td>\n",
       "    </tr>\n",
       "    <tr>\n",
       "      <th>1</th>\n",
       "      <td>Flying Machine</td>\n",
       "      <td>Men Slim Fit Jeans</td>\n",
       "      <td>1829.0</td>\n",
       "      <td>2999.0</td>\n",
       "      <td>0.39</td>\n",
       "      <td>4.6</td>\n",
       "      <td>5.0</td>\n",
       "    </tr>\n",
       "    <tr>\n",
       "      <th>2</th>\n",
       "      <td>Roadster</td>\n",
       "      <td>Men Pure Cotton Jeans</td>\n",
       "      <td>974.0</td>\n",
       "      <td>2499.0</td>\n",
       "      <td>0.61</td>\n",
       "      <td>3.6</td>\n",
       "      <td>1100.0</td>\n",
       "    </tr>\n",
       "    <tr>\n",
       "      <th>3</th>\n",
       "      <td>Bene Kleed</td>\n",
       "      <td>Relaxed Fit Denim Jeans</td>\n",
       "      <td>873.0</td>\n",
       "      <td>2299.0</td>\n",
       "      <td>0.62</td>\n",
       "      <td>4.0</td>\n",
       "      <td>4800.0</td>\n",
       "    </tr>\n",
       "    <tr>\n",
       "      <th>4</th>\n",
       "      <td>Levis</td>\n",
       "      <td>Men 511 Slim Fit Jeans</td>\n",
       "      <td>1478.0</td>\n",
       "      <td>2899.0</td>\n",
       "      <td>0.49</td>\n",
       "      <td>4.3</td>\n",
       "      <td>264.0</td>\n",
       "    </tr>\n",
       "    <tr>\n",
       "      <th>...</th>\n",
       "      <td>...</td>\n",
       "      <td>...</td>\n",
       "      <td>...</td>\n",
       "      <td>...</td>\n",
       "      <td>...</td>\n",
       "      <td>...</td>\n",
       "      <td>...</td>\n",
       "    </tr>\n",
       "    <tr>\n",
       "      <th>52115</th>\n",
       "      <td>Pepe Jeans</td>\n",
       "      <td>Men Slim Fit Jeans</td>\n",
       "      <td>759.0</td>\n",
       "      <td>1899.0</td>\n",
       "      <td>0.60</td>\n",
       "      <td>4.0</td>\n",
       "      <td>63.0</td>\n",
       "    </tr>\n",
       "    <tr>\n",
       "      <th>52116</th>\n",
       "      <td>HERE&amp;NOW</td>\n",
       "      <td>Men Slim Fit Jeans</td>\n",
       "      <td>759.0</td>\n",
       "      <td>1899.0</td>\n",
       "      <td>0.60</td>\n",
       "      <td>4.0</td>\n",
       "      <td>63.0</td>\n",
       "    </tr>\n",
       "    <tr>\n",
       "      <th>52117</th>\n",
       "      <td>Pepe Jeans</td>\n",
       "      <td>Men Slim Fit Jeans</td>\n",
       "      <td>759.0</td>\n",
       "      <td>1899.0</td>\n",
       "      <td>0.60</td>\n",
       "      <td>4.0</td>\n",
       "      <td>63.0</td>\n",
       "    </tr>\n",
       "    <tr>\n",
       "      <th>52118</th>\n",
       "      <td>Celio</td>\n",
       "      <td>Men Straight Fit Jeans</td>\n",
       "      <td>759.0</td>\n",
       "      <td>1899.0</td>\n",
       "      <td>0.60</td>\n",
       "      <td>4.0</td>\n",
       "      <td>63.0</td>\n",
       "    </tr>\n",
       "    <tr>\n",
       "      <th>52119</th>\n",
       "      <td>Pepe Jeans</td>\n",
       "      <td>Men Slim Fit Jeans</td>\n",
       "      <td>759.0</td>\n",
       "      <td>1899.0</td>\n",
       "      <td>0.60</td>\n",
       "      <td>4.0</td>\n",
       "      <td>63.0</td>\n",
       "    </tr>\n",
       "  </tbody>\n",
       "</table>\n",
       "<p>52120 rows × 7 columns</p>\n",
       "</div>"
      ],
      "text/plain": [
       "           brand_name           pants_description   price     MRP  \\\n",
       "0               WROGN  Men Loose Fit Cotton Jeans  1374.0  2499.0   \n",
       "1      Flying Machine          Men Slim Fit Jeans  1829.0  2999.0   \n",
       "2            Roadster       Men Pure Cotton Jeans   974.0  2499.0   \n",
       "3          Bene Kleed     Relaxed Fit Denim Jeans   873.0  2299.0   \n",
       "4               Levis      Men 511 Slim Fit Jeans  1478.0  2899.0   \n",
       "...               ...                         ...     ...     ...   \n",
       "52115      Pepe Jeans          Men Slim Fit Jeans   759.0  1899.0   \n",
       "52116        HERE&NOW          Men Slim Fit Jeans   759.0  1899.0   \n",
       "52117      Pepe Jeans          Men Slim Fit Jeans   759.0  1899.0   \n",
       "52118           Celio      Men Straight Fit Jeans   759.0  1899.0   \n",
       "52119      Pepe Jeans          Men Slim Fit Jeans   759.0  1899.0   \n",
       "\n",
       "       discount_percent  ratings  number_of_ratings  \n",
       "0                  0.45      4.2               57.0  \n",
       "1                  0.39      4.6                5.0  \n",
       "2                  0.61      3.6             1100.0  \n",
       "3                  0.62      4.0             4800.0  \n",
       "4                  0.49      4.3              264.0  \n",
       "...                 ...      ...                ...  \n",
       "52115              0.60      4.0               63.0  \n",
       "52116              0.60      4.0               63.0  \n",
       "52117              0.60      4.0               63.0  \n",
       "52118              0.60      4.0               63.0  \n",
       "52119              0.60      4.0               63.0  \n",
       "\n",
       "[52120 rows x 7 columns]"
      ]
     },
     "execution_count": 81,
     "metadata": {},
     "output_type": "execute_result"
    }
   ],
   "source": [
    "df"
   ]
  },
  {
   "cell_type": "code",
   "execution_count": 42,
   "id": "655d6738-818c-4c18-beaa-3c4625bf22cb",
   "metadata": {},
   "outputs": [],
   "source": [
    "import matplotlib.pyplot as plt\n",
    "import seaborn as sns  \n",
    "import pandas as pd\n",
    "import numpy as np"
   ]
  },
  {
   "cell_type": "code",
   "execution_count": 52,
   "id": "ff49ac0b-107a-4b34-8bb8-6fdd19ab013e",
   "metadata": {},
   "outputs": [
    {
     "data": {
      "text/plain": [
       "np.float64(1594.5154451266308)"
      ]
     },
     "execution_count": 52,
     "metadata": {},
     "output_type": "execute_result"
    }
   ],
   "source": [
    "df['price'].mean()"
   ]
  },
  {
   "cell_type": "code",
   "execution_count": 59,
   "id": "6837369d-929c-40e9-866b-dc35bb2b39b7",
   "metadata": {},
   "outputs": [
    {
     "data": {
      "image/png": "[encoded data removed]",
      "text/plain": [
       "<Figure size 640x480 with 1 Axes>"
      ]
     },
     "metadata": {},
     "output_type": "display_data"
    }
   ],
   "source": [
    "plt.hist(df['price'], bins = 300);\n",
    "plt.xlim(0, 8000) \n",
    "plt.show()"
   ]
  },
  {
   "cell_type": "code",
   "execution_count": 60,
   "id": "186dc2cb-a33a-47c3-abfb-21f5e4535f5b",
   "metadata": {},
   "outputs": [
    {
     "data": {
      "image/png": "[encoded data removed]",
      "text/plain": [
       "<Figure size 640x480 with 1 Axes>"
      ]
     },
     "metadata": {},
     "output_type": "display_data"
    }
   ],
   "source": [
    "sns.histplot(data = df, x = 'price', bins = 300);\n",
    "plt.xlim(0, 8000) \n",
    "plt.show()"
   ]
  },
  {
   "cell_type": "code",
   "execution_count": 61,
   "id": "9eb85450-3a1b-47e1-8c27-a77ab1e6605a",
   "metadata": {},
   "outputs": [
    {
     "data": {
      "text/plain": [
       "np.float64(15.162255691980691)"
      ]
     },
     "execution_count": 61,
     "metadata": {},
     "output_type": "execute_result"
    }
   ],
   "source": [
    "df['price'].skew()"
   ]
  },
  {
   "cell_type": "code",
   "execution_count": 63,
   "id": "c3504e5e-3e24-40ab-885c-1fe4547aa549",
   "metadata": {},
   "outputs": [
    {
     "data": {
      "text/plain": [
       "<Axes: >"
      ]
     },
     "execution_count": 63,
     "metadata": {},
     "output_type": "execute_result"
    },
    {
     "data": {
      "image/png": "[encoded data removed]",
      "text/plain": [
       "<Figure size 640x480 with 1 Axes>"
      ]
     },
     "metadata": {},
     "output_type": "display_data"
    }
   ],
   "source": [
    "df.boxplot(['price'])"
   ]
  },
  {
   "cell_type": "code",
   "execution_count": 66,
   "id": "a9cc5963-bc78-491e-95de-1a905bbc7fbe",
   "metadata": {},
   "outputs": [
    {
     "data": {
      "image/png": "[encoded data removed]",
      "text/plain": [
       "<Figure size 640x480 with 1 Axes>"
      ]
     },
     "metadata": {},
     "output_type": "display_data"
    }
   ],
   "source": [
    "plt.boxplot(df['price'])\n",
    "plt.ylim(0,10000)\n",
    "plt.show()"
   ]
  },
  {
   "cell_type": "code",
   "execution_count": 75,
   "id": "f5bec2ec-b652-4ebf-a42b-62c2c5215c64",
   "metadata": {},
   "outputs": [
    {
     "name": "stdout",
     "output_type": "stream",
     "text": [
      "brand_name\n",
      "WROGN                        5303\n",
      "Flying Machine               5197\n",
      "United Colors of Benetton    3985\n",
      "Roadster                     3523\n",
      "Mufti                        2416\n",
      "                             ... \n",
      "Veny                            1\n",
      "Nature Casuals                  1\n",
      "INKD                            1\n",
      "Bruun & Stengade                1\n",
      "Ed Hardy                        1\n",
      "Name: count, Length: 417, dtype: int64\n"
     ]
    }
   ],
   "source": [
    "brand_count = df['brand_name'].value_counts()\n",
    "print(brand_count)"
   ]
  },
  {
   "cell_type": "code",
   "execution_count": 78,
   "id": "d0445fd3-6b9f-4688-a1ad-bcf519c6ed8e",
   "metadata": {},
   "outputs": [
    {
     "data": {
      "image/png": "[encoded data removed]",
      "text/plain": [
       "<Figure size 640x480 with 1 Axes>"
      ]
     },
     "metadata": {},
     "output_type": "display_data"
    }
   ],
   "source": [
    "top_5 = brand_count.head(5)\n",
    "others_count = brand_count[5:].sum()\n",
    "\n",
    "sizes = top_5.tolist() + [others_count]\n",
    "labels = top_5.index.tolist() + ['Others']\n",
    "\n",
    "plt.pie(sizes, labels=labels, autopct='%1.1f%%')\n",
    "plt.title('Brand Distribution (Top 5 + Others)')\n",
    "plt.show()"
   ]
  },
  {
   "cell_type": "code",
   "execution_count": 84,
   "id": "5cd5fa64-80ed-4417-b398-6dcf7748097e",
   "metadata": {},
   "outputs": [
    {
     "data": {
      "text/plain": [
       "<Axes: >"
      ]
     },
     "execution_count": 84,
     "metadata": {},
     "output_type": "execute_result"
    },
    {
     "data": {
      "image/png": "[encoded data removed]",
      "text/plain": [
       "<Figure size 640x480 with 1 Axes>"
      ]
     },
     "metadata": {},
     "output_type": "display_data"
    }
   ],
   "source": [
    "df.boxplot(['ratings'])"
   ]
  },
  {
   "cell_type": "code",
   "execution_count": null,
   "id": "9b7ba8b0-2740-48e4-b677-f5a2c3af86d6",
   "metadata": {},
   "outputs": [],
   "source": []
  }
 ],
 "metadata": {
  "kernelspec": {
   "display_name": "Python [conda env:base] *",
   "language": "python",
   "name": "conda-base-py"
  },
  "language_info": {
   "codemirror_mode": {
    "name": "ipython",
    "version": 3
   },
   "file_extension": ".py",
   "mimetype": "text/x-python",
   "name": "python",
   "nbconvert_exporter": "python",
   "pygments_lexer": "ipython3",
   "version": "3.13.5"
  }
 },
 "nbformat": 4,
 "nbformat_minor": 5
}
